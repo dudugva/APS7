{
 "cells": [
  {
   "cell_type": "code",
   "execution_count": 3,
   "metadata": {
    "collapsed": true
   },
   "outputs": [],
   "source": [
    "import numpy as np\n",
    "import matplotlib as plt\n",
    "import pandas as pd\n",
    "from scipy import stats\n",
    "import math\n",
    "\n",
    "%matplotlib inline"
   ]
  },
  {
   "cell_type": "code",
   "execution_count": 4,
   "metadata": {
    "collapsed": true
   },
   "outputs": [],
   "source": [
    "dados = [702, 725, 767, 779, 700, 791, 707, 783, 722, 764, 783, 712, 701, 739, 729] #mudar essa\n",
    "dados = pd.Series(dados)\n",
    "n = len(dados)\n"
   ]
  },
  {
   "cell_type": "code",
   "execution_count": 5,
   "metadata": {
    "collapsed": false
   },
   "outputs": [
    {
     "name": "stdout",
     "output_type": "stream",
     "text": [
      "Média:  740.2666666666667\n",
      "Desvio padrão amostral:  34.05136176565099\n"
     ]
    }
   ],
   "source": [
    "med = np.mean(dados)\n",
    "desvpad = np.std(dados,ddof=1)\n",
    "\n",
    "print(\"Média: \", med)\n",
    "print(\"Desvio padrão amostral: \", desvpad)"
   ]
  },
  {
   "cell_type": "code",
   "execution_count": 6,
   "metadata": {
    "collapsed": false
   },
   "outputs": [
    {
     "data": {
      "image/png": "[encoded data removed]",
      "text/plain": [
       "<matplotlib.figure.Figure at 0x12d449e8b00>"
      ]
     },
     "metadata": {},
     "output_type": "display_data"
    }
   ],
   "source": [
    "boot_med = []\n",
    "\n",
    "Y = 10000\n",
    "for i in range(Y):\n",
    "    med = np.mean(np.random.choice(dados,size = n, replace = True))\n",
    "    boot_med.append(med)\n",
    "    \n",
    "Hist = pd.Series(boot_med).plot.hist(normed = 1,bins=20)"
   ]
  },
  {
   "cell_type": "code",
   "execution_count": 7,
   "metadata": {
    "collapsed": false
   },
   "outputs": [
    {
     "name": "stdout",
     "output_type": "stream",
     "text": [
      "757.601666667 724.066666667\n"
     ]
    }
   ],
   "source": [
    "crit_1 = np.percentile(boot_med,97.5)\n",
    "crit_2 = np.percentile(boot_med, 2.5)\n",
    "\n",
    "print(crit_1,crit_2)"
   ]
  },
  {
   "cell_type": "code",
   "execution_count": null,
   "metadata": {
    "collapsed": true
   },
   "outputs": [],
   "source": []
  }
 ],
 "metadata": {
  "kernelspec": {
   "display_name": "Python 3",
   "language": "python",
   "name": "python3"
  },
  "language_info": {
   "codemirror_mode": {
    "name": "ipython",
    "version": 3
   },
   "file_extension": ".py",
   "mimetype": "text/x-python",
   "name": "python",
   "nbconvert_exporter": "python",
   "pygments_lexer": "ipython3",
   "version": "3.6.0"
  }
 },
 "nbformat": 4,
 "nbformat_minor": 2
}
